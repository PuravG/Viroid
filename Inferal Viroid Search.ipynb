{
 "cells": [
  {
   "cell_type": "markdown",
   "id": "1de20d14-f12a-4776-a68f-325f167e28ad",
   "metadata": {},
   "source": [
    "# Combining all the fasta Files from the ambivirus paper's [viroid-like circles file](https://github.com/ababaian/serratus/wiki/assets/ambi/viroid-like_circles.tar.gz)"
   ]
  },
  {
   "cell_type": "markdown",
   "id": "71e9c502-9b90-494d-8e00-e4f19120f416",
   "metadata": {},
   "source": [
    "```awk '/^>/{p=seen[$0]++}!p' test.fasta test2.fasta > test3.fasta```"
   ]
  },
  {
   "cell_type": "code",
   "execution_count": null,
   "id": "9ac8468b-5e4c-4f99-ba47-7cda2648f275",
   "metadata": {},
   "outputs": [],
   "source": [
    "awk '/^>/{p=seen[$0]++}!p' /Users/puravgupta/Downloads/viroid-like_circles/DVR4+hairpin-meta.fa /Users/puravgupta/Downloads/viroid-like_circles/DVR4+hairpin-meta.id90.fa /Users/puravgupta/Downloads/viroid-like_circles/DVR4+hhr_all_270322.fa /Users/puravgupta/Downloads/viroid-like_circles/DVR4+hhr_all_270322.id90.fa /Users/puravgupta/Downloads/viroid-like_circles/DVR4.fa /Users/puravgupta/Downloads/viroid-like_circles/DVR4.id90.fa /Users/puravgupta/Downloads/viroid-like_circles/Hammerhead_II+hhr_all_270322.fa /Users/puravgupta/Downloads/viroid-like_circles/Hammerhead_II+hhr_all_270322.id90.fa /Users/puravgupta/Downloads/viroid-like_circles/Hammerhead_II+new_hhr7.fa /Users/puravgupta/Downloads/viroid-like_circles/Hammerhead_II+new_hhr7.id90.fa /Users/puravgupta/Downloads/viroid-like_circles/Hammerhead_II+twister-P1.fa /Users/puravgupta/Downloads/viroid-like_circles/Hammerhead_II+twister-P1.id90.fa /Users/puravgupta/Downloads/viroid-like_circles/Hammerhead_II.fa /Users/puravgupta/Downloads/viroid-like_circles/Hammerhead_II.id90.fa /Users/puravgupta/Downloads/viroid-like_circles/hairpin-meta+hhr_all_270322.fa /Users/puravgupta/Downloads/viroid-like_circles/hairpin-meta+hhr_all_270322.id90.fa /Users/puravgupta/Downloads/viroid-like_circles/hairpin-meta+new_vs5.fa /Users/puravgupta/Downloads/viroid-like_circles/hairpin-meta+new_vs5.id90.fa /Users/puravgupta/Downloads/viroid-like_circles/hairpin-meta+twister-P1.fa /Users/puravgupta/Downloads/viroid-like_circles/hairpin-meta+twister-P1.id90.fa /Users/puravgupta/Downloads/viroid-like_circles/hairpin-meta.fa /Users/puravgupta/Downloads/viroid-like_circles/hairpin-meta.id90.fa /Users/puravgupta/Downloads/viroid-like_circles/hhr_all_270322+new_hhr7.fa /Users/puravgupta/Downloads/viroid-like_circles/hhr_all_270322+new_hhr7.id90.fa /Users/puravgupta/Downloads/viroid-like_circles/hhr_all_270322+new_vs5.fa /Users/puravgupta/Downloads/viroid-like_circles/hhr_all_270322+new_vs5.id90.fa /Users/puravgupta/Downloads/viroid-like_circles/hhr_all_270322+twister-P1.fa /Users/puravgupta/Downloads/viroid-like_circles/hhr_all_270322+twister-P1.id90.fa /Users/puravgupta/Downloads/viroid-like_circles/hhr_all_270322.fa /Users/puravgupta/Downloads/viroid-like_circles/hhr_all_270322.id90.fa /Users/puravgupta/Downloads/viroid-like_circles/new_hhr7+new_vs5.fa /Users/puravgupta/Downloads/viroid-like_circles/new_hhr7+new_vs5.id90.fa /Users/puravgupta/Downloads/viroid-like_circles/new_hhr7+twister-P1.fa /Users/puravgupta/Downloads/viroid-like_circles/new_hhr7+twister-P1.id90.fa /Users/puravgupta/Downloads/viroid-like_circles/new_hhr7.fa /Users/puravgupta/Downloads/viroid-like_circles/new_hhr7.id90.fa /Users/puravgupta/Downloads/viroid-like_circles/new_vs5+twister-P1.fa /Users/puravgupta/Downloads/viroid-like_circles/new_vs5+twister-P1.id90.fa /Users/puravgupta/Downloads/viroid-like_circles/new_vs5.fa /Users/puravgupta/Downloads/viroid-like_circles/new_vs5.id90.fa /Users/puravgupta/Downloads/viroid-like_circles/twister-P1.fa /Users/puravgupta/Downloads/viroid-like_circles/twister-P1.id90.fa > all_combined.fasta"
   ]
  },
  {
   "cell_type": "markdown",
   "id": "e88fdc6a-cb42-435b-b15d-383dfe35c9cd",
   "metadata": {},
   "source": [
    "# cmcalibrate"
   ]
  },
  {
   "cell_type": "code",
   "execution_count": null,
   "id": "4f1a331c-5f1f-4f24-9f2b-15ed2b822559",
   "metadata": {},
   "outputs": [],
   "source": [
    "cmcalibrate --cpu 8 dvr5.cm"
   ]
  },
  {
   "cell_type": "markdown",
   "id": "e585d3ac",
   "metadata": {},
   "source": [
    "# cmsearch All models against all unique circular like RNA"
   ]
  },
  {
   "cell_type": "code",
   "execution_count": null,
   "id": "af1fad25-ffad-481c-8e08-09ef7145f8c6",
   "metadata": {},
   "outputs": [],
   "source": [
    "cmsearch --cpu 64 -o cmsearch_dvr5.txt --tblout tblout_cmsearch --max dvr5.cm all_combined.fasta"
   ]
  },
  {
   "cell_type": "markdown",
   "id": "b71894b8",
   "metadata": {},
   "source": [
    "# cmsearch ONLY DVR4.cm against all unique circular like RNA"
   ]
  },
  {
   "cell_type": "code",
   "execution_count": null,
   "id": "ccca6f2e",
   "metadata": {
    "vscode": {
     "languageId": "powershell"
    }
   },
   "outputs": [],
   "source": [
    "cmsearch --cpu 64 -o cmsearch_dvr4.txt --tblout tblout_dvr4.tsv --max DVR4.cm all_combined.fasta"
   ]
  }
 ],
 "metadata": {
  "kernelspec": {
   "display_name": "Bash",
   "language": "bash",
   "name": "bash"
  },
  "language_info": {
   "codemirror_mode": "shell",
   "file_extension": ".sh",
   "mimetype": "text/x-sh",
   "name": "bash"
  }
 },
 "nbformat": 4,
 "nbformat_minor": 5
}
